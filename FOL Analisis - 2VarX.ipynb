{
 "cells": [
  {
   "cell_type": "code",
   "execution_count": 1,
   "id": "53362254",
   "metadata": {},
   "outputs": [],
   "source": [
    "import pandas as pd\n",
    "import numpy as np\n",
    "from matplotlib import pyplot as plt\n",
    "%matplotlib inline\n"
   ]
  },
  {
   "cell_type": "code",
   "execution_count": 2,
   "id": "0cc4a864",
   "metadata": {},
   "outputs": [],
   "source": [
    "data_Latih = pd.read_excel('aalatih.xlsx')"
   ]
  },
  {
   "cell_type": "code",
   "execution_count": 3,
   "id": "a744f888",
   "metadata": {},
   "outputs": [],
   "source": [
    "df = pd.DataFrame(data_Latih)\n",
    "selected_columns = ['Titik_1_PSI','Titik_2_PSI']  # Kolom yang ingin diambil\n",
    "x = df[selected_columns]\n",
    "\n",
    "out_cols = data_Latih['Lokasi_Kebocoran']\n",
    "y = out_cols"
   ]
  },
  {
   "cell_type": "code",
   "execution_count": 4,
   "id": "1ee0f359",
   "metadata": {},
   "outputs": [
    {
     "data": {
      "text/html": [
       "<div>\n",
       "<style scoped>\n",
       "    .dataframe tbody tr th:only-of-type {\n",
       "        vertical-align: middle;\n",
       "    }\n",
       "\n",
       "    .dataframe tbody tr th {\n",
       "        vertical-align: top;\n",
       "    }\n",
       "\n",
       "    .dataframe thead th {\n",
       "        text-align: right;\n",
       "    }\n",
       "</style>\n",
       "<table border=\"1\" class=\"dataframe\">\n",
       "  <thead>\n",
       "    <tr style=\"text-align: right;\">\n",
       "      <th></th>\n",
       "      <th>Titik_1_PSI</th>\n",
       "      <th>Titik_2_PSI</th>\n",
       "    </tr>\n",
       "  </thead>\n",
       "  <tbody>\n",
       "    <tr>\n",
       "      <th>0</th>\n",
       "      <td>137.7880</td>\n",
       "      <td>89.9248</td>\n",
       "    </tr>\n",
       "    <tr>\n",
       "      <th>1</th>\n",
       "      <td>136.3376</td>\n",
       "      <td>87.0240</td>\n",
       "    </tr>\n",
       "    <tr>\n",
       "      <th>2</th>\n",
       "      <td>137.7880</td>\n",
       "      <td>84.1232</td>\n",
       "    </tr>\n",
       "    <tr>\n",
       "      <th>3</th>\n",
       "      <td>134.8872</td>\n",
       "      <td>88.4744</td>\n",
       "    </tr>\n",
       "    <tr>\n",
       "      <th>4</th>\n",
       "      <td>137.7880</td>\n",
       "      <td>88.4744</td>\n",
       "    </tr>\n",
       "    <tr>\n",
       "      <th>...</th>\n",
       "      <td>...</td>\n",
       "      <td>...</td>\n",
       "    </tr>\n",
       "    <tr>\n",
       "      <th>228</th>\n",
       "      <td>132.0000</td>\n",
       "      <td>83.0000</td>\n",
       "    </tr>\n",
       "    <tr>\n",
       "      <th>229</th>\n",
       "      <td>133.0000</td>\n",
       "      <td>84.0000</td>\n",
       "    </tr>\n",
       "    <tr>\n",
       "      <th>230</th>\n",
       "      <td>132.0000</td>\n",
       "      <td>83.0000</td>\n",
       "    </tr>\n",
       "    <tr>\n",
       "      <th>231</th>\n",
       "      <td>133.0000</td>\n",
       "      <td>84.0000</td>\n",
       "    </tr>\n",
       "    <tr>\n",
       "      <th>232</th>\n",
       "      <td>132.0000</td>\n",
       "      <td>83.0000</td>\n",
       "    </tr>\n",
       "  </tbody>\n",
       "</table>\n",
       "<p>233 rows × 2 columns</p>\n",
       "</div>"
      ],
      "text/plain": [
       "     Titik_1_PSI  Titik_2_PSI\n",
       "0       137.7880      89.9248\n",
       "1       136.3376      87.0240\n",
       "2       137.7880      84.1232\n",
       "3       134.8872      88.4744\n",
       "4       137.7880      88.4744\n",
       "..           ...          ...\n",
       "228     132.0000      83.0000\n",
       "229     133.0000      84.0000\n",
       "230     132.0000      83.0000\n",
       "231     133.0000      84.0000\n",
       "232     132.0000      83.0000\n",
       "\n",
       "[233 rows x 2 columns]"
      ]
     },
     "execution_count": 4,
     "metadata": {},
     "output_type": "execute_result"
    }
   ],
   "source": [
    "x"
   ]
  },
  {
   "cell_type": "code",
   "execution_count": 5,
   "id": "1abec708",
   "metadata": {},
   "outputs": [
    {
     "data": {
      "text/plain": [
       "0      26.42\n",
       "1      26.42\n",
       "2      26.42\n",
       "3      26.42\n",
       "4      26.42\n",
       "       ...  \n",
       "228    26.15\n",
       "229    26.15\n",
       "230    26.15\n",
       "231    26.15\n",
       "232    26.15\n",
       "Name: Lokasi_Kebocoran, Length: 233, dtype: float64"
      ]
     },
     "execution_count": 5,
     "metadata": {},
     "output_type": "execute_result"
    }
   ],
   "source": [
    "y"
   ]
  },
  {
   "cell_type": "code",
   "execution_count": 6,
   "id": "1af5b63f",
   "metadata": {},
   "outputs": [],
   "source": [
    "from sklearn.model_selection import train_test_split\n",
    "x_train,x_test,y_train,y_test=train_test_split(x,y,test_size=0.30,random_state=0)\n"
   ]
  },
  {
   "cell_type": "code",
   "execution_count": 7,
   "id": "214e0a5d",
   "metadata": {},
   "outputs": [
    {
     "name": "stdout",
     "output_type": "stream",
     "text": [
      "[24.15125    26.42       26.42       25.07333333 26.42       26.42\n",
      " 24.15125    26.42       26.42       26.42       26.42       26.42\n",
      " 26.42       26.42       26.42       26.42       26.42       25.07333333\n",
      " 26.42       26.42       25.07333333  0.         26.15       26.42\n",
      " 26.42       24.15125     0.         26.42       26.15       25.07333333\n",
      "  4.12833333 26.42       26.42       26.42       24.15125    26.42\n",
      " 26.42       26.42        4.12833333  0.         26.42       26.42\n",
      " 26.42       26.42       26.42       26.42       26.42       26.42\n",
      " 25.07333333 26.42        0.         25.07333333 25.07333333 26.42\n",
      " 26.15       26.42       25.07333333 26.42        0.          0.\n",
      " 24.15125    26.42       26.42       26.42       26.42       26.42\n",
      " 26.42        0.         26.42        0.        ]\n"
     ]
    }
   ],
   "source": [
    "from sklearn.tree import DecisionTreeRegressor\n",
    "Dc = DecisionTreeRegressor(max_depth=3, random_state=30) \n",
    "Dc.fit(x_train, y_train)\n",
    "predictions_D3 = Dc.predict(x_test)\n",
    "print(predictions_D3)"
   ]
  },
  {
   "cell_type": "code",
   "execution_count": 8,
   "id": "09843cac",
   "metadata": {},
   "outputs": [
    {
     "name": "stdout",
     "output_type": "stream",
     "text": [
      "MAE:0.640518 %\n",
      "MSE: 12.82819348462301 %\n",
      "RMSE: 3.5816467559801333 %\n",
      "accuracy: 99.35948214285713 %\n"
     ]
    }
   ],
   "source": [
    "from sklearn.metrics import mean_absolute_error\n",
    "mae_D3=mean_absolute_error(y_test,predictions_D3)\n",
    "print('MAE:%f'%mae_D3, \"%\")\n",
    "from sklearn.metrics import mean_squared_error\n",
    "mse_D3 = mean_squared_error(y_test, predictions_D3)\n",
    "print(\"MSE:\", mse_D3, \"%\")\n",
    "rmse_D3 = np.sqrt(mse_D3)\n",
    "print(\"RMSE:\", rmse_D3, \"%\")\n",
    "acc_D3 = ((100 - mae_D3))\n",
    "print(\"accuracy:\", acc_D3, \"%\")"
   ]
  },
  {
   "cell_type": "code",
   "execution_count": 9,
   "id": "188eb511",
   "metadata": {},
   "outputs": [],
   "source": [
    "import pickle"
   ]
  },
  {
   "cell_type": "code",
   "execution_count": null,
   "id": "012fa455",
   "metadata": {},
   "outputs": [],
   "source": [
    "filename='Pred_lokasi11.sav'\n",
    "pickle.dump(Dc,open(filename,'wb'))"
   ]
  },
  {
   "cell_type": "code",
   "execution_count": null,
   "id": "794b1a36",
   "metadata": {},
   "outputs": [],
   "source": []
  }
 ],
 "metadata": {
  "kernelspec": {
   "display_name": "Python 3 (ipykernel)",
   "language": "python",
   "name": "python3"
  },
  "language_info": {
   "codemirror_mode": {
    "name": "ipython",
    "version": 3
   },
   "file_extension": ".py",
   "mimetype": "text/x-python",
   "name": "python",
   "nbconvert_exporter": "python",
   "pygments_lexer": "ipython3",
   "version": "3.10.2"
  }
 },
 "nbformat": 4,
 "nbformat_minor": 5
}
